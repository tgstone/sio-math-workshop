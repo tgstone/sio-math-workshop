{
 "cells": [
  {
   "cell_type": "markdown",
   "id": "b36fe48a",
   "metadata": {},
   "source": [
    "# Linear Algebra 2\n",
    "\n",
    "$$\n",
    "\\frac{D \\vec{u}}{D t} = -\\frac{1}{\\rho} \\nabla P + \\nu(\\nabla^2 \\cdot \\vec{u}) \\tag{1}\n",
    "$$\n",
    "\n",
    "Yes, I know this isn't linear algebra\n",
    "\n",
    "$$\n",
    "\\frac{D \\vec{u}}{D t} = -\\frac{1}{\\rho} \\nabla P \n",
    "$$"
   ]
  }
 ],
 "metadata": {
  "language_info": {
   "name": "python"
  }
 },
 "nbformat": 4,
 "nbformat_minor": 5
}
