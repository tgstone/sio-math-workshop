{
 "cells": [
  {
   "cell_type": "markdown",
   "id": "b36fe48a",
   "metadata": {},
   "source": [
    "# Intro to Statistics"
   ]
  },
  {
   "cell_type": "markdown",
   "id": "5ca7f7ec",
   "metadata": {},
   "source": [
    "**Instructor:** Kathryn Kathryn Chen (ksc005@ucsd.edu )\n",
    "  \n",
    "**TAs:** Luisa Watkins\n",
    "\n",
    "Notes found on Google Drive [2025_SIO_Math_Workshop_Intro_Stats](https://drive.google.com/file/d/1MyUGfC0oYgbJ-yxyS4NY8MRr-m1EFpXI/view?usp=drive_link)\n"
   ]
  }
 ],
 "metadata": {
  "language_info": {
   "name": "python"
  }
 },
 "nbformat": 4,
 "nbformat_minor": 5
}
